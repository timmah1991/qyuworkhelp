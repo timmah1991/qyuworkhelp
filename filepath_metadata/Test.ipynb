{
 "cells": [
  {
   "cell_type": "code",
   "execution_count": 1,
   "metadata": {},
   "outputs": [
    {
     "data": {
      "text/plain": [
       "u'/Users/qyu/Documents/Github/qyuworkhelp'"
      ]
     },
     "execution_count": 1,
     "metadata": {},
     "output_type": "execute_result"
    }
   ],
   "source": [
    "%pwd\n"
   ]
  },
  {
   "cell_type": "code",
   "execution_count": 2,
   "metadata": {
    "collapsed": true
   },
   "outputs": [],
   "source": [
    "text_file = open(\"non_numeric.txt\", \"r\")\n",
    "lines = text_file.read().split('\\n')"
   ]
  },
  {
   "cell_type": "code",
   "execution_count": 3,
   "metadata": {},
   "outputs": [
    {
     "data": {
      "text/plain": [
       "['Owner_Name',\n",
       " 'Owner_Abbrev',\n",
       " 'Owner_Ownership_Type',\n",
       " 'Regulated_Nonregulated_Owner',\n",
       " 'Owner_Business_Sector',\n",
       " 'Owner_Industry',\n",
       " 'Owner_Phone_Number',\n",
       " 'Owner_Address',\n",
       " 'Owner_City',\n",
       " 'Owner_State_Abbrev',\n",
       " 'Owner_Zip_Code',\n",
       " 'Owner_Country',\n",
       " 'Owner_Name',\n",
       " 'Owner_Abbrev',\n",
       " 'Owner_Ownership_Type',\n",
       " 'Regulated_Nonregulated_Owner',\n",
       " 'Owner_Business_Sector',\n",
       " 'Owner_Industry',\n",
       " 'Owner_Phone_Number',\n",
       " 'Owner_Address',\n",
       " 'Owner_City',\n",
       " 'Owner_State_Abbrev',\n",
       " 'Owner_Zip_Code',\n",
       " 'Owner_Country',\n",
       " 'Owner_Government_ID',\n",
       " 'Owner_Website',\n",
       " 'Owner_Accounting_Period',\n",
       " 'Owner_Membership_Name',\n",
       " 'Holding_Company_Name',\n",
       " 'Holding_Company_Relationship_Type',\n",
       " 'Holding_Company_Abbrev',\n",
       " 'SP_500_Index_Holding_Company_YN',\n",
       " 'Holding_Company_Phone_Number',\n",
       " 'Holding_Company_State_Abbrev',\n",
       " 'Holding_Company_Website',\n",
       " 'Holding_Company_Stock_Symbol',\n",
       " 'Holding_Company_Stock_Exchange',\n",
       " 'Plant_Operator_Name',\n",
       " 'Plant_Operator_Abbrev',\n",
       " 'Plant_Operator_State_Abbrev',\n",
       " 'Plant_Operator_Address',\n",
       " 'Plant_Operator_City',\n",
       " 'Plant_Operator_Zip_Code',\n",
       " 'Plant_Operator_Phone_Number',\n",
       " 'Plant_Operator_Government_ID',\n",
       " 'Plant_Operator_Website',\n",
       " 'Plant_Operator_Holding_Company_Name',\n",
       " 'Plant_Name',\n",
       " 'Plant_Aliases',\n",
       " 'Plant_North_American_Industry_Classification_System_NAICS',\n",
       " 'Plant_NAICS_Description',\n",
       " 'EIA_Sector_Number',\n",
       " 'EIA_Sector',\n",
       " 'EIA_Sector_Group',\n",
       " 'EIA_Sector_Category',\n",
       " 'Regulated_Nonregulated_Plant',\n",
       " 'First_Commercial_Online_Date',\n",
       " 'Last_Commercial_Online_Date',\n",
       " 'First_Retirement_Date',\n",
       " 'Last_Retirement_Date',\n",
       " 'Plant_Address',\n",
       " 'Plant_City',\n",
       " 'Plant_County',\n",
       " 'Plant_State',\n",
       " 'Plant_State_Contiguous_YN',\n",
       " 'Plant_State_Abbrev',\n",
       " 'Plant_Zip_Code',\n",
       " 'Plant_Phone_Number',\n",
       " 'Plant_Country',\n",
       " 'Plant_NRC_Region',\n",
       " 'Plant_Census_Division',\n",
       " 'Plant_Census_Region',\n",
       " 'Waterway',\n",
       " 'Plant_Balancing_Authority_Area_Name',\n",
       " 'Plant_NERC_Region_Name',\n",
       " 'Plant_NERC_Region_Abbrev',\n",
       " 'Plant_NERC_Sub_Region_Name',\n",
       " 'Plant_NERC_Sub_Region_Abbrev',\n",
       " 'Plant_ISO_Name',\n",
       " 'Plant_ISO_Zone_Name',\n",
       " 'Plant_ICE_Gas_Price_Hub_Name',\n",
       " '']"
      ]
     },
     "execution_count": 3,
     "metadata": {},
     "output_type": "execute_result"
    }
   ],
   "source": [
    "lines\n"
   ]
  },
  {
   "cell_type": "code",
   "execution_count": null,
   "metadata": {
    "collapsed": true
   },
   "outputs": [],
   "source": []
  }
 ],
 "metadata": {
  "kernelspec": {
   "display_name": "Python 2",
   "language": "python",
   "name": "python2"
  },
  "language_info": {
   "codemirror_mode": {
    "name": "ipython",
    "version": 2
   },
   "file_extension": ".py",
   "mimetype": "text/x-python",
   "name": "python",
   "nbconvert_exporter": "python",
   "pygments_lexer": "ipython2",
   "version": "2.7.13"
  }
 },
 "nbformat": 4,
 "nbformat_minor": 2
}
